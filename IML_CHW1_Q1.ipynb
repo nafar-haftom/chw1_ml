{
 "cells": [
  {
   "cell_type": "markdown",
   "metadata": {
    "id": "c7wdMyNNzf49",
    "pycharm": {
     "name": "#%% md\n"
    }
   },
   "source": [
    "<h1 align=\"center\">An Introduction to Machine Learning - 25737</h1>\n",
    "<h4 align=\"center\">Dr. Sajjad Amini</h4>\n",
    "<h4 align=\"center\">Sharif University of Technology, Spring 2023</h4>\n",
    "\n",
    "# Problem Set 01\n",
    "\n",
    "Welcome to your first assignment. This exercise gives you a brief introduction to Python. \n",
    "\n",
    "\n"
   ]
  },
  {
   "cell_type": "markdown",
   "source": [
    "STUDENT NAME:mohammad ghafourian\n",
    "\n",
    "STUDENT ID:99106493"
   ],
   "metadata": {
    "id": "Q-qsTRYU5ay5",
    "pycharm": {
     "name": "#%% md\n"
    }
   }
  },
  {
   "cell_type": "markdown",
   "metadata": {
    "id": "lyOsKSguzf5A",
    "pycharm": {
     "name": "#%% md\n"
    }
   },
   "source": [
    "## About iPython Notebooks ##\n",
    "\n",
    "iPython Notebooks are interactive coding environments embedded in a webpage. You will be using iPython notebooks in this class. You only need to write code between the ### START CODE HERE ### and ### END CODE HERE ### comments. After writing your code, you can run the cell by either pressing \"SHIFT\"+\"ENTER\" or by clicking on \"Run Cell\" (denoted by a play symbol) in the upper bar of the notebook. \n",
    "\n",
    "**Exercise**: Set test to `\"Hello World\"` in the cell below to print \"Hello World\" and run the two cells below."
   ]
  },
  {
   "cell_type": "code",
   "execution_count": 1,
   "metadata": {
    "id": "cVMoOWUlzf5A",
    "pycharm": {
     "name": "#%%\n"
    }
   },
   "outputs": [
    {
     "name": "stdout",
     "output_type": "stream",
     "text": [
      "Hello World\n"
     ]
    }
   ],
   "source": [
    "### START CODE HERE ###\n",
    "test = \"Hello World\"\n",
    "print(test)\n",
    "### END CODE HERE ###"
   ]
  },
  {
   "cell_type": "markdown",
   "metadata": {
    "id": "mJZfkY87zf5B",
    "pycharm": {
     "name": "#%% md\n"
    }
   },
   "source": [
    "<font color='blue'>\n",
    "**What you need to remember**:\n",
    "- Run your cells using SHIFT+ENTER (or \"Run cell\")\n",
    "- Write code in the designated areas using Python 3 only\n",
    "- Do not modify the code outside of the designated areas"
   ]
  },
  {
   "cell_type": "markdown",
   "metadata": {
    "id": "ZdmzMwNpzf5B",
    "pycharm": {
     "name": "#%% md\n"
    }
   },
   "source": [
    "# 1.\n",
    ">What are the lengths of the following lists and strings below? Fill in the variable `lengths` with your predictions. (Try to make a prediction for each list *without* just calling `len()` on it.)"
   ]
  },
  {
   "cell_type": "code",
   "execution_count": 2,
   "metadata": {
    "id": "Yh3d2hZ4zf5C",
    "pycharm": {
     "name": "#%%\n"
    }
   },
   "outputs": [
    {
     "name": "stdout",
     "output_type": "stream",
     "text": [
      "[3, 2, 0, 2, 7, 0, 3, 1]\n"
     ]
    }
   ],
   "source": [
    "a = [1, 2, 3]\n",
    "b = [1, [2, 3]]\n",
    "c = []\n",
    "d = [1, 2, 3][1:]\n",
    "e = 'it\\'s ok'\n",
    "f = \"\"\n",
    "g = \"\"\"hey\"\"\"\n",
    "h = '\\n'\n",
    "\n",
    "# Put your predictions in the list below. Lengths should contain 8 numbers, the\n",
    "# first being the length of a, the second being the length of b and so on.\n",
    "### START CODE HERE ###\n",
    "lengths = [3, 2, 0, 2, 7, 0, 3, 1]\n",
    "print(lengths)\n",
    "### END CODE HERE ###"
   ]
  },
  {
   "cell_type": "markdown",
   "metadata": {
    "id": "dMxFzKopzf5C",
    "pycharm": {
     "name": "#%% md\n"
    }
   },
   "source": [
    "# 2. \n",
    ">Swap the values to which a and b refer."
   ]
  },
  {
   "cell_type": "code",
   "execution_count": 3,
   "metadata": {
    "id": "HXlpbPVYzf5C",
    "pycharm": {
     "name": "#%%\n"
    }
   },
   "outputs": [
    {
     "name": "stdout",
     "output_type": "stream",
     "text": [
      "[3, 2, 1]\n",
      "[1, 2, 3]\n"
     ]
    }
   ],
   "source": [
    "a = [1, 2, 3]\n",
    "b = [3, 2, 1]\n",
    "\n",
    "### START CODE HERE ###\n",
    "a, b =b, a\n",
    "print(a)\n",
    "print(b)\n",
    "### END CODE HERE ###"
   ]
  },
  {
   "cell_type": "markdown",
   "metadata": {
    "id": "igr3m4pXzf5C",
    "pycharm": {
     "name": "#%% md\n"
    }
   },
   "source": [
    "# 3. \n",
    ">Which of the two variables below has the smallest absolute value? Use Python's built-in functions."
   ]
  },
  {
   "cell_type": "code",
   "execution_count": 4,
   "metadata": {
    "id": "tAy0qBDezf5C",
    "pycharm": {
     "name": "#%%\n"
    }
   },
   "outputs": [
    {
     "name": "stdout",
     "output_type": "stream",
     "text": [
      "5\n"
     ]
    }
   ],
   "source": [
    "x = -10\n",
    "y = 5\n",
    "\n",
    "### START CODE HERE ###\n",
    "smallest_abs = min(abs(x),abs(y))\n",
    "print(smallest_abs)\n",
    "### END CODE HERE ###"
   ]
  },
  {
   "cell_type": "markdown",
   "metadata": {
    "id": "-55kY-Cqzf5C",
    "pycharm": {
     "name": "#%% md\n"
    }
   },
   "source": [
    "# 4. \n",
    "\n",
    "> A simple exercise! Run the cell below and try to explain the results for yourself:\n",
    "\n"
   ]
  },
  {
   "cell_type": "code",
   "execution_count": 5,
   "metadata": {
    "id": "_dpAa1Q4zf5D",
    "pycharm": {
     "name": "#%%\n"
    }
   },
   "outputs": [
    {
     "name": "stdout",
     "output_type": "stream",
     "text": [
      "1.0\n",
      "0.0\n",
      "1.0\n"
     ]
    }
   ],
   "source": [
    "print( 1.0 + 1.0 - 1.0 )\n",
    "print( 1.0 + 1.0e20 - 1.0e20 )\n",
    "print( 1.0e20 - 1.0e20 + 1 )"
   ]
  },
  {
   "cell_type": "markdown",
   "source": [
    "in the second one we calculate a big num then reduce big number from it this cause a zero value in the answer\n",
    "but in third one we first reduce two big nums then add 1 to the result so the result is 1"
   ],
   "metadata": {
    "collapsed": false,
    "pycharm": {
     "name": "#%% md\n"
    }
   }
  },
  {
   "cell_type": "markdown",
   "metadata": {
    "id": "3G2-lTfDzf5D",
    "pycharm": {
     "name": "#%% md\n"
    }
   },
   "source": [
    "# 5.\n",
    ">Many programming languages have [`sign`](https://en.wikipedia.org/wiki/Sign_function) available as a built-in function. Python doesn't, but we can define our own! \n",
    "In the cell below, define a function called `sign` which takes a numerical argument and returns -1 if it's negative, 1 if it's positive, and 0 if it's 0."
   ]
  },
  {
   "cell_type": "code",
   "execution_count": 6,
   "metadata": {
    "id": "ASICcFwYzf5D",
    "pycharm": {
     "name": "#%%\n"
    }
   },
   "outputs": [
    {
     "name": "stdout",
     "output_type": "stream",
     "text": [
      "1\n",
      "-1\n",
      "0\n"
     ]
    }
   ],
   "source": [
    "def sign(x):\n",
    "    # (\"pass\" is a keyword that does literally nothing. We used it as a placeholder\n",
    "    # because after we begin a code block, Python requires at least one line of code)\n",
    "    ### START CODE HERE ###\n",
    "    return x if x==0 else int(x/abs(x))\n",
    "    ### END CODE HERE ###\n",
    "    pass\n",
    "\n",
    "# You can try different examples to check your function:\n",
    "print(sign(2))\n",
    "print(sign(-2))\n",
    "print(sign(0))"
   ]
  },
  {
   "cell_type": "markdown",
   "metadata": {
    "id": "6on-t1f0zf5D",
    "pycharm": {
     "name": "#%% md\n"
    }
   },
   "source": [
    "# 6. \n",
    ">Complete the body of the following function according to its docstring.\n",
    "\n",
    "HINT: Python has a built-in function `round`."
   ]
  },
  {
   "cell_type": "code",
   "execution_count": 7,
   "metadata": {
    "id": "VINxi-ngzf5D",
    "pycharm": {
     "name": "#%%\n"
    }
   },
   "outputs": [
    {
     "data": {
      "text/plain": "10.0"
     },
     "execution_count": 7,
     "metadata": {},
     "output_type": "execute_result"
    }
   ],
   "source": [
    "def round_to_two_places(num):\n",
    "    \"\"\"Return the given number rounded to two decimal places. \n",
    "    \n",
    "    >>> round_to_two_places(3.14159)\n",
    "    3.14\n",
    "    \"\"\"\n",
    "    ### START CODE HERE ###\n",
    "    return round(num,2)\n",
    "    ### END CODE HERE ###\n",
    "    pass\n",
    "\n",
    "round_to_two_places(9.9999)"
   ]
  },
  {
   "cell_type": "markdown",
   "metadata": {
    "id": "5FtTkgU6zf5D",
    "pycharm": {
     "name": "#%% md\n"
    }
   },
   "source": [
    "The help for `round` says that `ndigits` (the second argument) may be negative.\n",
    "What do you think will happen when it is? Try an example in the cell below."
   ]
  },
  {
   "cell_type": "code",
   "execution_count": 8,
   "metadata": {
    "id": "G6_vfswBzf5D",
    "pycharm": {
     "name": "#%%\n"
    }
   },
   "outputs": [
    {
     "data": {
      "text/plain": "200.0"
     },
     "execution_count": 8,
     "metadata": {},
     "output_type": "execute_result"
    }
   ],
   "source": [
    "round(232.4243, -2)"
   ]
  },
  {
   "cell_type": "markdown",
   "source": [
    "round in 10^(-ndigit) state"
   ],
   "metadata": {
    "collapsed": false,
    "pycharm": {
     "name": "#%% md\n"
    }
   }
  },
  {
   "cell_type": "markdown",
   "metadata": {
    "id": "i3sKJk1jzf5D",
    "pycharm": {
     "name": "#%% md\n"
    }
   },
   "source": [
    "# 7.\n",
    "> Write a function that evaluates the polynomial $${3x^2 − x + 2}$$"
   ]
  },
  {
   "cell_type": "code",
   "execution_count": 9,
   "metadata": {
    "id": "cKy7RJVTzf5E",
    "pycharm": {
     "name": "#%%\n"
    }
   },
   "outputs": [
    {
     "name": "stdout",
     "output_type": "stream",
     "text": [
      "4\n"
     ]
    }
   ],
   "source": [
    "def polynomial(x):\n",
    "    ### START CODE HERE ###\n",
    "    return 3*x**2-x+2\n",
    "    ### END CODE HERE ###\n",
    "    pass\n",
    "print(polynomial(1))"
   ]
  },
  {
   "cell_type": "markdown",
   "metadata": {
    "id": "HI8Nje1Jzf5E",
    "pycharm": {
     "name": "#%% md\n"
    }
   },
   "source": [
    "# 8.\n",
    ">Complete the function below according to its docstring."
   ]
  },
  {
   "cell_type": "code",
   "execution_count": 10,
   "metadata": {
    "id": "4pDj20lbzf5E",
    "pycharm": {
     "name": "#%%\n"
    }
   },
   "outputs": [
    {
     "data": {
      "text/plain": "2"
     },
     "execution_count": 10,
     "metadata": {},
     "output_type": "execute_result"
    }
   ],
   "source": [
    "def select_second(L):\n",
    "    \"\"\"Return the second element of the given list. If the list has no second\n",
    "    element, return None.\n",
    "    \"\"\"\n",
    "    ### START CODE HERE ###\n",
    "    ans=None;\n",
    "    if len(L)<=1 :\n",
    "        return ans\n",
    "    return L[1]\n",
    "    ### END CODE HERE ###\n",
    "    pass\n",
    "select_second([1])\n",
    "select_second([1,2,3])"
   ]
  },
  {
   "cell_type": "markdown",
   "metadata": {
    "id": "uHty8trFzf5E",
    "pycharm": {
     "name": "#%% md\n"
    }
   },
   "source": [
    "# 9.\n",
    ">We're using lists to record people who attended a class and what order they arrived in. For example, the following list represents a class with 7 students, in which 'Amirhossein' showed up first and 'Pedram' was the last to arrive:\n",
    "    \n",
    "> class_attendees = ['Amirhossein', 'Hadi', 'Fatemeh', 'Mahtab', 'Ali', 'Nasim', 'Pedram']\n",
    "\n",
    "> A student is considered 'fashionably late' if they arrived after at least half of the class's students. However, they must not be the very last student (that's taking it too far). In the above example, Ali and Nasim are the only students who were fashionably late.\n",
    "Complete the function below which takes a list of class attendees as well as a person, and tells us whether that person is fashionably late."
   ]
  },
  {
   "cell_type": "code",
   "execution_count": 11,
   "metadata": {
    "id": "8xOjqaTvzf5E",
    "pycharm": {
     "name": "#%%\n"
    }
   },
   "outputs": [
    {
     "name": "stdout",
     "output_type": "stream",
     "text": [
      "fashionably late\n",
      "not fashionably late\n",
      "there isn't such name in list\n"
     ]
    }
   ],
   "source": [
    "def fashionably_late(arrivals, name):\n",
    "    \"\"\"Given an ordered list of arrivals to the class and a name, return whether the student with that\n",
    "    name was fashionably late.\n",
    "    \"\"\"\n",
    "    ### START CODE HERE ###\n",
    "    if arrivals.count(name)>0:\n",
    "        name_idx= arrivals.index(name)+1\n",
    "        length= len(arrivals)\n",
    "        if name_idx > length/2 and name_idx!=length:\n",
    "            print(\"fashionably late\")\n",
    "        else:\n",
    "            print(\"not fashionably late\")\n",
    "    else:\n",
    "        print(\"there isn't such name in list\")\n",
    "    ### END CODE HERE ###\n",
    "    pass\n",
    "class_attendees = ['Amirhossein', 'Hadi', 'Fatemeh', 'Mahtab', 'Ali', 'Nasim', 'Pedram']\n",
    "fashionably_late(class_attendees,'Nasim')\n",
    "fashionably_late(class_attendees,'Pedram')\n",
    "fashionably_late(class_attendees,'Naim')"
   ]
  },
  {
   "cell_type": "markdown",
   "metadata": {
    "id": "xYVP-8eWzf5E",
    "pycharm": {
     "name": "#%% md\n"
    }
   },
   "source": [
    "# 10.\n",
    ">Complete the function below according to its docstring."
   ]
  },
  {
   "cell_type": "code",
   "execution_count": 12,
   "metadata": {
    "id": "HQ-mpu1zzf5E",
    "pycharm": {
     "name": "#%%\n"
    }
   },
   "outputs": [
    {
     "name": "stdout",
     "output_type": "stream",
     "text": [
      "unlucky\n"
     ]
    }
   ],
   "source": [
    "def has_lucky_number(nums):\n",
    "    \"\"\"Return whether the given list of numbers is lucky. A lucky list contains\n",
    "    at least one number divisible by 7.\n",
    "    \"\"\"\n",
    "    ### START CODE HERE ###\n",
    "    divnum= [item%7 for item in nums]\n",
    "    if divnum.count(0)>0:\n",
    "        return \"lucky\"\n",
    "    return \"unlucky\"\n",
    "    ### END CODE HERE ###\n",
    "    pass\n",
    "print(has_lucky_number([1,2,3]))"
   ]
  },
  {
   "cell_type": "markdown",
   "metadata": {
    "id": "tp4MIqyozf5E",
    "pycharm": {
     "name": "#%% md\n"
    }
   },
   "source": [
    "# 11.\n",
    "\n",
    ">Complete the body of the function below according to its docstring."
   ]
  },
  {
   "cell_type": "code",
   "execution_count": 26,
   "metadata": {
    "id": "28PSD7eKzf5F",
    "pycharm": {
     "name": "#%%\n"
    }
   },
   "outputs": [
    {
     "name": "stdout",
     "output_type": "stream",
     "text": [
      "True\n"
     ]
    }
   ],
   "source": [
    "def menu_is_boring(meals):\n",
    "    \"\"\"Given a list of meals served over some period of time, return True if the\n",
    "    same meal has ever been served two days in a row, and False otherwise.\n",
    "    \"\"\"\n",
    "    ### START CODE HERE ###\n",
    "    if len(meals)>2:\n",
    "        i=0\n",
    "        while i< len(meals)-1:\n",
    "            if i==len(meals)-2:\n",
    "                if meals[i]==meals[i+1] and meals[i]!=meals[i-1]:\n",
    "\n",
    "                    return True\n",
    "                i+=1\n",
    "            else:\n",
    "                if meals[i]==meals[i+1]:\n",
    "                    if meals[i]!=meals[i+2]:\n",
    "                        if i>0:\n",
    "                            if meals[i]!=meals[i-1]:\n",
    "                                return True\n",
    "                        else:\n",
    "                            return True\n",
    "                        i+=2\n",
    "                    else :\n",
    "                        i+=2\n",
    "                else:\n",
    "                    i+=1\n",
    "    elif len(meals)==2:\n",
    "        if meals[0]==meals[1]:\n",
    "            return True\n",
    "    return False\n",
    "    ### END CODE HERE ###\n",
    "    pass\n",
    "print(menu_is_boring([2,2,3]))"
   ]
  },
  {
   "cell_type": "markdown",
   "source": [
    "this code just return true if just a meal serve 2 days in row not 3 days or 4 days\n",
    "if the question wants every two days the below code is the answer"
   ],
   "metadata": {
    "collapsed": false,
    "pycharm": {
     "name": "#%% md\n"
    }
   }
  },
  {
   "cell_type": "code",
   "execution_count": 32,
   "outputs": [
    {
     "name": "stdout",
     "output_type": "stream",
     "text": [
      "True\n"
     ]
    }
   ],
   "source": [
    "def menu_is_boring2(meals):\n",
    "    if len(meals)>=2:\n",
    "        for i in range(len(meals)-1):\n",
    "            if meals[i]==meals[i+1]:\n",
    "                return True\n",
    "    return False\n",
    "print(menu_is_boring2([1,2,2]))"
   ],
   "metadata": {
    "collapsed": false,
    "pycharm": {
     "name": "#%%\n"
    }
   }
  },
  {
   "cell_type": "markdown",
   "metadata": {
    "id": "WxphNvtzzf5F",
    "pycharm": {
     "name": "#%% md\n"
    }
   },
   "source": [
    "# 12.\n",
    "\n",
    "> There is a saying that \"Data scientists spend 80% of their time cleaning data, and 20% of their time complaining about cleaning data.\" Let's see if you can write a function to help clean US zip code data. Given a string, it should return whether or not that string represents a valid zip code. For our purposes, a valid zip code is any string consisting of exactly 5 digits.\n",
    "\n",
    "HINT: `str` has a method that will be useful here. Use `help(str)` to review a list of string methods."
   ]
  },
  {
   "cell_type": "code",
   "execution_count": 14,
   "metadata": {
    "id": "BPjuuKfXzf5F",
    "pycharm": {
     "name": "#%%\n"
    }
   },
   "outputs": [
    {
     "name": "stdout",
     "output_type": "stream",
     "text": [
      "True\n",
      "False\n"
     ]
    }
   ],
   "source": [
    "def is_valid_zip(zip_code):\n",
    "    \"\"\"Returns whether the input string is a valid (5 digit) zip code\n",
    "    \"\"\"\n",
    "    ### START CODE HERE ###\n",
    "    num_of_dig=0\n",
    "    for i in zip_code:\n",
    "        if i.isdigit():\n",
    "            num_of_dig+=1\n",
    "    if num_of_dig==5:\n",
    "        return True\n",
    "    return False\n",
    "    ### END CODE HERE ###\n",
    "    pass\n",
    "print(is_valid_zip(\"hello my 12 is 23 3.\"))\n",
    "print(is_valid_zip(\"hello my 12 is 23 .\"))\n"
   ]
  },
  {
   "cell_type": "markdown",
   "metadata": {
    "id": "CAB_4WFczf5F",
    "pycharm": {
     "name": "#%% md\n"
    }
   },
   "source": [
    "# 13.\n",
    ">Write a function my_max(x,y) that returns the maximum of x and y. \n",
    "\n",
    ">Do not use the max function, but use if instead in following two ways:\n",
    "\n",
    ">> (a) Use both if and else.\n",
    "\n",
    ">> (b) Use if but not else (nor elif)."
   ]
  },
  {
   "cell_type": "code",
   "execution_count": 15,
   "metadata": {
    "id": "EdxovDduzf5F",
    "pycharm": {
     "name": "#%%\n"
    }
   },
   "outputs": [],
   "source": [
    "def my_max_a(x,y):\n",
    "    ### START CODE HERE ###\n",
    "    if x>y:\n",
    "        return x\n",
    "    else:\n",
    "        return y\n",
    "    ### END CODE HERE ###\n",
    "    pass"
   ]
  },
  {
   "cell_type": "code",
   "execution_count": 16,
   "metadata": {
    "id": "QbC8rsevzf5F",
    "pycharm": {
     "name": "#%%\n"
    }
   },
   "outputs": [],
   "source": [
    "def my_max_b(x,y):\n",
    "    ### START CODE HERE ###\n",
    "    if x>y:\n",
    "        return x\n",
    "    return y\n",
    "    ### END CODE HERE ###\n",
    "    pass"
   ]
  },
  {
   "cell_type": "markdown",
   "metadata": {
    "id": "SPGRkQKczf5F",
    "pycharm": {
     "name": "#%% md\n"
    }
   },
   "source": [
    "# 14.  \n",
    "\n",
    "> Let i,j = 1,...,n\n",
    "\n",
    ">>(a) Generate a list with elements [i,j].\n",
    "\n",
    ">>(b) Generate a list with elements [i,j] with i < j\n",
    "\n",
    ">>(c) Generate a list with elements i + j with both i and j prime and i > j\n",
    "\n",
    "Use List comprehensions"
   ]
  },
  {
   "cell_type": "code",
   "execution_count": 35,
   "metadata": {
    "id": "6kEF2l-azf5F",
    "pycharm": {
     "name": "#%%\n"
    }
   },
   "outputs": [
    {
     "name": "stdout",
     "output_type": "stream",
     "text": [
      "3 i j  2\n",
      "5 i j  2\n",
      "5 i j  3\n"
     ]
    },
    {
     "data": {
      "text/plain": "[[5], [7], [8]]"
     },
     "execution_count": 35,
     "metadata": {},
     "output_type": "execute_result"
    }
   ],
   "source": [
    "n=5\n",
    "# a)\n",
    "### START CODE HERE ###\n",
    "list_14a=[]\n",
    "for i in range(n):\n",
    "    for j in range(n):\n",
    "        list_14a.append([i+1,j+1])\n",
    "print(list_14a)\n",
    "\n",
    "### END CODE HERE ###\n",
    "# b)\n",
    "### START CODE HERE ###\n",
    "list_14b=[]\n",
    "for i in range(n):\n",
    "    for j in range(i+1,n):\n",
    "        list_14b.append([i+1,j+1])\n",
    "print(list_14b)\n",
    "### END CODE HERE ###\n",
    "# c)\n",
    "### START CODE HERE ###\n",
    "def is_prime(x):\n",
    "  for num in range(2,x):\n",
    "    if (x%num) == 0:\n",
    "      return False\n",
    "  return True\n",
    "list_14c=[]\n",
    "for i in range(1,n):\n",
    "    for j in range(1,i):\n",
    "        if is_prime(i+1) and is_prime(j+1) :\n",
    "            #print(i+1,\"i j \",j+1)\n",
    "            list_14c.append([i+j+2])\n",
    "print(list_14c)\n",
    "### END CODE HERE ###"
   ]
  },
  {
   "cell_type": "markdown",
   "metadata": {
    "id": "1Nt-b71ozf5F",
    "pycharm": {
     "name": "#%% md\n"
    }
   },
   "source": [
    "# 15. \n",
    "\n",
    ">Complete the body of the function below according to its docstring."
   ]
  },
  {
   "cell_type": "code",
   "execution_count": 18,
   "metadata": {
    "id": "h7dJzbXgzf5F",
    "pycharm": {
     "name": "#%%\n"
    }
   },
   "outputs": [
    {
     "name": "stdout",
     "output_type": "stream",
     "text": [
      "[2002, 2009, 2016, 2023, 2037, 2044, 2051, 2058, 2072, 2079, 2086, 2093, 2107, 2114, 2121, 2128, 2142, 2149, 2156, 2163, 2177, 2184, 2191, 2198, 2212, 2219, 2226, 2233, 2247, 2254, 2261, 2268, 2282, 2289, 2296, 2303, 2317, 2324, 2331, 2338, 2352, 2359, 2366, 2373, 2387, 2394, 2401, 2408, 2422, 2429, 2436, 2443, 2457, 2464, 2471, 2478, 2492, 2499, 2506, 2513, 2527, 2534, 2541, 2548, 2562, 2569, 2576, 2583, 2597, 2604, 2611, 2618, 2632, 2639, 2646, 2653, 2667, 2674, 2681, 2688, 2702, 2709, 2716, 2723, 2737, 2744, 2751, 2758, 2772, 2779, 2786, 2793, 2807, 2814, 2821, 2828, 2842, 2849, 2856, 2863, 2877, 2884, 2891, 2898, 2912, 2919, 2926, 2933, 2947, 2954, 2961, 2968, 2982, 2989, 2996, 3003, 3017, 3024, 3031, 3038, 3052, 3059, 3066, 3073, 3087, 3094, 3101, 3108, 3122, 3129, 3136, 3143, 3157, 3164, 3171, 3178, 3192, 3199]\n"
     ]
    }
   ],
   "source": [
    "def my_func():\n",
    "    \"\"\"Write a function which will return a list contains all such numbers which are divisible by 7 but are not a multiple\n",
    "    of 5, between 2000 and 3200 (both included).\n",
    "    \"\"\"\n",
    "    ### START CODE HERE ###\n",
    "    num=[]\n",
    "    for i in range(2000,3201):\n",
    "        if i%7==0 and i%5!=0:\n",
    "            num.append(i)\n",
    "    return num\n",
    "    ### END CODE HERE ###\n",
    "    pass\n",
    "print(my_func())"
   ]
  },
  {
   "cell_type": "markdown",
   "metadata": {
    "id": "4hCkNduIzf5F",
    "pycharm": {
     "name": "#%% md\n"
    }
   },
   "source": [
    "# 16.\n",
    "\n",
    ">Write a program that accepts a sentence and calculate the number of letters and digits.\n",
    "Suppose the following input is supplied to the program:\n",
    "\n",
    "        hello world! 123\n",
    ">Then, the output should be:\n",
    "\n",
    ">>LETTERS 10\n",
    "\n",
    ">>DIGITS 3"
   ]
  },
  {
   "cell_type": "code",
   "execution_count": 19,
   "metadata": {
    "id": "zCF3Jcxrzf5G",
    "pycharm": {
     "name": "#%%\n"
    }
   },
   "outputs": [
    {
     "name": "stdout",
     "output_type": "stream",
     "text": [
      "LETTERS  5\n",
      "DIGITS  0\n"
     ]
    }
   ],
   "source": [
    "### START CODE HERE ###\n",
    "\n",
    "string = input(\"Enter a sentence: \")\n",
    "letter_num=0\n",
    "digit_num=0\n",
    "for char in string :\n",
    "    if char.isalpha():\n",
    "        letter_num+=1\n",
    "    elif char.isdigit():\n",
    "        digit_num+=1\n",
    "print('LETTERS ' ,letter_num)\n",
    "print('DIGITS ' ,digit_num)\n",
    "\n",
    "### END CODE HERE ###"
   ]
  },
  {
   "cell_type": "markdown",
   "metadata": {
    "id": "SrFe49A3zf5G",
    "pycharm": {
     "name": "#%% md\n"
    }
   },
   "source": [
    "# 17.\n",
    "Write a function to sort a list of tuples (name, age, height) by ascending order\n",
    "where name is string, age and height are numbers. The sort\n",
    "criteria is:\n",
    "\n",
    "* 1: Sort based on name;\n",
    "* 2: Then sort based on age;\n",
    "* 3: Then sort by score.\n",
    "\n",
    "The priority is that name > age > score.\n",
    "If the following list is given as input to the function:\n",
    ">[('Taha',19,80), ('Farhad',20,90), ('Farrokh',17,91), ('Farrokh',17,93), ('Fatemeh',21,85)]\n",
    "\n",
    "Then, the output of the program should be:\n",
    ">[('Farhad', '20', '90'), ('Farrokh', '17', '91'), ('Farrokh', '17', '93'), ('Fatemeh', '21', '85'), ('Taha', '19', '80')]"
   ]
  },
  {
   "cell_type": "code",
   "execution_count": 20,
   "metadata": {
    "id": "ovUPqq9Tzf5G",
    "pycharm": {
     "name": "#%%\n"
    }
   },
   "outputs": [
    {
     "name": "stdout",
     "output_type": "stream",
     "text": [
      "[('Farhad', 20, 90), ('Farrokh', 17, 91), ('Farrokh', 17, 93), ('Fatemeh', 18, 81), ('Fatemeh', 21, 85), ('Taha', 19, 80)]\n"
     ]
    }
   ],
   "source": [
    "def sortTuple(inputList):\n",
    "    ### START CODE HERE ###\n",
    "    length=len(inputList)\n",
    "    for i in range (0,length):\n",
    "        for j in range(0,length-i-1):\n",
    "            if inputList[j][0]>inputList[j+1][0]:\n",
    "                inputList[j],inputList[j+1]=inputList[j+1],inputList[j]\n",
    "            elif inputList[j][0]==inputList[j+1][0]:\n",
    "                if inputList[j][1]>inputList[j+1][1]:\n",
    "                    inputList[j],inputList[j+1]=inputList[j+1],inputList[j]\n",
    "                elif inputList[j][1]==inputList[j+1][1]:\n",
    "                    if inputList[j][2]>inputList[j+1][2]:\n",
    "                        inputList[j],inputList[j+1]=inputList[j+1],inputList[j]\n",
    "    ### END CODE HERE ###\n",
    "    return inputList\n",
    "    pass\n",
    "inli=[('Taha',19,80), ('Farhad',20,90), ('Farrokh',17,91), ('Farrokh',17,93), ('Fatemeh',21,85), ('Fatemeh',18 ,81 )]\n",
    "print(sortTuple(inli))"
   ]
  }
 ],
 "metadata": {
  "kernelspec": {
   "display_name": "Python 3",
   "language": "python",
   "name": "python3"
  },
  "language_info": {
   "codemirror_mode": {
    "name": "ipython",
    "version": 3
   },
   "file_extension": ".py",
   "mimetype": "text/x-python",
   "name": "python",
   "nbconvert_exporter": "python",
   "pygments_lexer": "ipython3",
   "version": "3.8.5"
  },
  "colab": {
   "provenance": []
  }
 },
 "nbformat": 4,
 "nbformat_minor": 0
}